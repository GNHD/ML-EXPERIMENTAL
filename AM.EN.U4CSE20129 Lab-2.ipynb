{
 "cells": [
  {
   "cell_type": "code",
   "execution_count": 1,
   "id": "467c344d",
   "metadata": {},
   "outputs": [
    {
     "ename": "ModuleNotFoundError",
     "evalue": "No module named 'numpy'",
     "output_type": "error",
     "traceback": [
      "\u001b[1;31m---------------------------------------------------------------------------\u001b[0m",
      "\u001b[1;31mModuleNotFoundError\u001b[0m                       Traceback (most recent call last)",
      "Cell \u001b[1;32mIn [1], line 1\u001b[0m\n\u001b[1;32m----> 1\u001b[0m \u001b[38;5;28;01mimport\u001b[39;00m \u001b[38;5;21;01mnumpy\u001b[39;00m \u001b[38;5;28;01mas\u001b[39;00m \u001b[38;5;21;01mnp\u001b[39;00m\n\u001b[0;32m      2\u001b[0m v1\u001b[38;5;241m=\u001b[39mnp\u001b[38;5;241m.\u001b[39marray([\u001b[38;5;241m1\u001b[39m,\u001b[38;5;241m6\u001b[39m,\u001b[38;5;241m7\u001b[39m,\u001b[38;5;241m9\u001b[39m])\n\u001b[0;32m      3\u001b[0m v2\u001b[38;5;241m=\u001b[39mnp\u001b[38;5;241m.\u001b[39marray([\u001b[38;5;241m1\u001b[39m,\u001b[38;5;241m0\u001b[39m,\u001b[38;5;241m6\u001b[39m,\u001b[38;5;241m9\u001b[39m])\n",
      "\u001b[1;31mModuleNotFoundError\u001b[0m: No module named 'numpy'"
     ]
    }
   ],
   "source": [
    "import numpy as np\n",
    "v1=np.array([1,6,7,9])\n",
    "v2=np.array([1,0,6,9])\n",
    "print(np.sum(v1==v2))"
   ]
  },
  {
   "cell_type": "code",
   "execution_count": 1,
   "id": "ce1c7582",
   "metadata": {},
   "outputs": [
    {
     "ename": "ModuleNotFoundError",
     "evalue": "No module named 'numpy'",
     "output_type": "error",
     "traceback": [
      "\u001b[1;31m---------------------------------------------------------------------------\u001b[0m",
      "\u001b[1;31mModuleNotFoundError\u001b[0m                       Traceback (most recent call last)",
      "Cell \u001b[1;32mIn [1], line 1\u001b[0m\n\u001b[1;32m----> 1\u001b[0m \u001b[38;5;28;01mimport\u001b[39;00m \u001b[38;5;21;01mnumpy\u001b[39;00m \u001b[38;5;28;01mas\u001b[39;00m \u001b[38;5;21;01mnp\u001b[39;00m\n\u001b[0;32m      2\u001b[0m M\u001b[38;5;241m=\u001b[39mnp\u001b[38;5;241m.\u001b[39mrandom\u001b[38;5;241m.\u001b[39mrandint(\u001b[38;5;241m0\u001b[39m,\u001b[38;5;241m100\u001b[39m,(\u001b[38;5;241m10\u001b[39m,\u001b[38;5;241m3\u001b[39m))\n\u001b[0;32m      3\u001b[0m \u001b[38;5;28mprint\u001b[39m(M)\n",
      "\u001b[1;31mModuleNotFoundError\u001b[0m: No module named 'numpy'"
     ]
    }
   ],
   "source": [
    "import numpy as np\n",
    "M=np.random.randint(0,100,(10,3))\n",
    "print(M)\n",
    "for i in M:\n",
    "    if (i[0]+i[1])%4==0:\n",
    "        i[2]=1\n",
    "    else:\n",
    "        i[2]=0\n",
    "print(M)"
   ]
  },
  {
   "cell_type": "code",
   "execution_count": 3,
   "id": "f73f710d",
   "metadata": {},
   "outputs": [
    {
     "name": "stdout",
     "output_type": "stream",
     "text": [
      "[[0.13198547 0.72873432 0.78131393]\n",
      " [0.06012129 0.52372493 0.20665561]\n",
      " [0.00599165 0.35847356 0.81047797]\n",
      " [0.20159355 0.04894696 0.26247069]\n",
      " [0.51535853 0.80727272 0.66009487]\n",
      " [0.60329372 0.80593638 0.06310541]\n",
      " [0.20759202 0.69842446 0.40081797]\n",
      " [0.89746918 0.8335983  0.48441551]\n",
      " [0.42553024 0.05415049 0.94514714]\n",
      " [0.22593172 0.734749   0.73882356]]\n",
      "(10, 3)\n",
      "10\n",
      "3\n"
     ]
    }
   ],
   "source": [
    "N=np.random.random((10,3))\n",
    "print(N)\n",
    "print(N.shape)\n",
    "print(N.shape[0])\n",
    "print(N.shape[1])"
   ]
  },
  {
   "cell_type": "code",
   "execution_count": 4,
   "id": "6714edff",
   "metadata": {},
   "outputs": [
    {
     "name": "stdout",
     "output_type": "stream",
     "text": [
      "   X1  X2  Y\n",
      "0  85   0  0\n",
      "1   7  18  0\n",
      "2  24  40  1\n",
      "3  44  15  0\n",
      "4  75  71  0\n",
      "5  69  51  1\n",
      "6  79  63  0\n",
      "7  50  96  0\n",
      "8  32  88  1\n",
      "9  19  48  0\n"
     ]
    }
   ],
   "source": [
    "import pandas\n",
    "colnames=['X1','X2','Y']\n",
    "df=pandas.DataFrame(M, columns=colnames)\n",
    "print(df)"
   ]
  },
  {
   "cell_type": "code",
   "execution_count": 5,
   "id": "9b8e1213",
   "metadata": {},
   "outputs": [
    {
     "data": {
      "image/png": "[encoded data removed]",
      "text/plain": [
       "<Figure size 432x288 with 1 Axes>"
      ]
     },
     "metadata": {
      "needs_background": "light"
     },
     "output_type": "display_data"
    }
   ],
   "source": [
    "import matplotlib.pyplot as plt\n",
    "import pandas\n",
    "from pandas.plotting import scatter_matrix\n",
    "col = df.Y.map({0:'b', 1:'r'})\n",
    "df.plot.scatter(x='X1', y='X2', c=col)\n",
    "plt.show()"
   ]
  },
  {
   "cell_type": "code",
   "execution_count": 6,
   "id": "1b80689f",
   "metadata": {},
   "outputs": [
    {
     "name": "stdout",
     "output_type": "stream",
     "text": [
      "0    7225\n",
      "1     121\n",
      "2     256\n",
      "3     841\n",
      "4      16\n",
      "5     324\n",
      "6     256\n",
      "7    2116\n",
      "8    3136\n",
      "9     841\n",
      "dtype: int32\n",
      "15132\n"
     ]
    }
   ],
   "source": [
    "a=np.square(df['X1']-df['X2'])\n",
    "print(a)\n",
    "print(np.sum(a))"
   ]
  },
  {
   "cell_type": "code",
   "execution_count": 7,
   "id": "1523409d",
   "metadata": {},
   "outputs": [
    {
     "name": "stdout",
     "output_type": "stream",
     "text": [
      "[6408]\n",
      "[80.04998438]\n"
     ]
    }
   ],
   "source": [
    "\n",
    "x=np.square(M[0][0]-M[1][0])\n",
    "y=np.square(M[0][1]-M[1][1])\n",
    "l=[]\n",
    "l.append(x+y)\n",
    "print(l)\n",
    "print(np.sqrt(l))"
   ]
  },
  {
   "cell_type": "markdown",
   "id": "fd8c38ce",
   "metadata": {},
   "source": []
  },
  {
   "cell_type": "code",
   "execution_count": 8,
   "id": "42493a93",
   "metadata": {},
   "outputs": [
    {
     "name": "stdout",
     "output_type": "stream",
     "text": [
      "[85  0]\n",
      "[ 7 18]\n",
      "80.049984384758\n"
     ]
    }
   ],
   "source": [
    "a=M[0][:2]\n",
    "b=M[1][:2]\n",
    "\n",
    "print(a)\n",
    "print(b)\n",
    "print(np.linalg.norm(a-b))"
   ]
  },
  {
   "cell_type": "code",
   "execution_count": 9,
   "id": "fe74da11",
   "metadata": {},
   "outputs": [
    {
     "name": "stdout",
     "output_type": "stream",
     "text": [
      "[17 18]\n"
     ]
    }
   ],
   "source": [
    "V=np.random.randint(0,100,(2))\n",
    "print(V)"
   ]
  },
  {
   "cell_type": "code",
   "execution_count": 11,
   "id": "1348e66e",
   "metadata": {},
   "outputs": [
    {
     "name": "stdout",
     "output_type": "stream",
     "text": [
      "[[85  0]\n",
      " [ 7 18]\n",
      " [24 40]\n",
      " [44 15]\n",
      " [75 71]\n",
      " [69 51]\n",
      " [79 63]\n",
      " [50 96]\n",
      " [32 88]\n",
      " [19 48]]\n",
      "70.3420215802759\n",
      "10.0\n",
      "23.08679276123039\n",
      "27.16615541441225\n",
      "78.56844150166147\n",
      "61.587336360651285\n",
      "76.60939890117922\n",
      "84.69356528095862\n",
      "71.58910531638176\n",
      "30.066592756745816\n"
     ]
    }
   ],
   "source": [
    "C=M[:,:2]\n",
    "print(C)\n",
    "\n",
    "\n",
    "for i in C:\n",
    "    print(np.linalg.norm(i-V))\n"
   ]
  },
  {
   "cell_type": "code",
   "execution_count": 20,
   "id": "69bef000",
   "metadata": {},
   "outputs": [
    {
     "name": "stdout",
     "output_type": "stream",
     "text": [
      "[[46 41]\n",
      " [93 39]\n",
      " [10 33]\n",
      " [74 98]\n",
      " [47 32]\n",
      " [39 43]\n",
      " [81 77]\n",
      " [77 43]\n",
      " [ 9 66]\n",
      " [ 8 93]]\n",
      "\n",
      "[[46 41 20]\n",
      " [93 39 62]\n",
      " [10 33 48]\n",
      " [74 98 54]\n",
      " [47 32 94]\n",
      " [39 43 26]\n",
      " [81 77 36]\n",
      " [77 43 76]\n",
      " [ 9 66  1]\n",
      " [ 8 93 59]]\n",
      "\n",
      "[[46 41 20]\n",
      " [93 39 62]\n",
      " [10 33 48]\n",
      " [74 98 54]\n",
      " [47 32 94]\n",
      " [39 43 26]\n",
      " [81 77 36]\n",
      " [77 43 76]\n",
      " [ 9 66  1]\n",
      " [ 8 93 59]\n",
      " [81 44 20]]\n"
     ]
    }
   ],
   "source": [
    "A=np.random.randint(0,100,(10,2))\n",
    "print(A)\n",
    "print()\n",
    "C=np.random.randint(0,100,(10,1))\n",
    "A=np.column_stack((A,C))\n",
    "print(A)\n",
    "print()\n",
    "R=np.random.randint(0,100,(1,3))\n",
    "A=np.vstack((A,R))\n",
    "print(A)"
   ]
  },
  {
   "cell_type": "code",
   "execution_count": 32,
   "id": "d6d8ae7a",
   "metadata": {},
   "outputs": [
    {
     "name": "stdout",
     "output_type": "stream",
     "text": [
      "[[85  0]\n",
      " [ 7 18]\n",
      " [24 40]\n",
      " [44 15]\n",
      " [75 71]\n",
      " [69 51]\n",
      " [79 63]\n",
      " [50 96]\n",
      " [32 88]\n",
      " [19 48]]\n",
      "\n",
      "[[35 70]\n",
      " [23 15]\n",
      " [42 73]\n",
      " [ 4 12]\n",
      " [97 79]\n",
      " [70 40]\n",
      " [90 46]\n",
      " [43 12]\n",
      " [59 32]\n",
      " [24 48]]\n"
     ]
    },
    {
     "data": {
      "text/plain": [
       "array([[ 86.02325267,  63.78871374,  84.72307832,  81.88406438,\n",
       "         79.906195  ,  42.72001873,  46.27094121,  43.68065934,\n",
       "         41.23105626,  77.62087348],\n",
       "       [ 59.05929224,  16.2788206 ,  65.19202405,   6.70820393,\n",
       "        108.72442228,  66.73080248,  87.59566199,  36.49657518,\n",
       "         53.85164807,  34.4818793 ],\n",
       "       [ 31.95309062,  25.01999201,  37.58989226,  34.40930107,\n",
       "         82.76472679,  46.        ,  66.2721661 ,  33.83784863,\n",
       "         35.90264614,   8.        ],\n",
       "       [ 55.73149917,  21.        ,  58.03447251,  40.11234224,\n",
       "         83.09632964,  36.06937759,  55.47071299,   3.16227766,\n",
       "         22.6715681 ,  38.58756276],\n",
       "       [ 40.01249805,  76.4198927 ,  33.06055051,  92.31467922,\n",
       "         23.40939982,  31.40063694,  29.15475947,  67.11929678,\n",
       "         42.15447782,  55.94640292],\n",
       "       [ 38.94868419,  58.41232747,  34.82814953,  75.80237463,\n",
       "         39.59797975,  11.04536102,  21.58703314,  46.87216658,\n",
       "         21.47091055,  45.09988914],\n",
       "       [ 44.55333882,  73.75635566,  38.32753579,  90.69729875,\n",
       "         24.08318916,  24.69817807,  20.24845673,  62.42595614,\n",
       "         36.89173349,  57.00877125],\n",
       "       [ 30.01666204,  85.38149682,  24.35159132,  95.77055915,\n",
       "         49.979996  ,  59.46427499,  64.03124237,  84.29116205,\n",
       "         64.62971453,  54.58937626],\n",
       "       [ 18.24828759,  73.55270219,  18.02775638,  80.99382693,\n",
       "         65.62011887,  61.22091146,  71.61005516,  76.79192666,\n",
       "         62.16912417,  40.79215611],\n",
       "       [ 27.20294102,  33.24154028,  33.9705755 ,  39.        ,\n",
       "         83.93449827,  51.623638  ,  71.02816343,  43.26661531,\n",
       "         43.08131846,   5.        ]])"
      ]
     },
     "execution_count": 32,
     "metadata": {},
     "output_type": "execute_result"
    }
   ],
   "source": [
    "M1=np.random.randint(0,100,(10,2))\n",
    "print(M[0:,:2])\n",
    "print()\n",
    "print(M1)\n",
    "from sklearn.metrics.pairwise \n",
    "import euclidean_distances\n",
    "euclidean_distances(M[:,:2], M1)"
   ]
  },
  {
   "cell_type": "code",
   "execution_count": 41,
   "id": "c6eb037b",
   "metadata": {},
   "outputs": [
    {
     "name": "stdout",
     "output_type": "stream",
     "text": [
      "[[  0.           0.          86.02325267]\n",
      " [  0.           1.          63.78871374]\n",
      " [  0.           2.          84.72307832]\n",
      " [  0.           3.          81.88406438]\n",
      " [  0.           4.          79.906195  ]\n",
      " [  0.           5.          42.72001873]\n",
      " [  0.           6.          46.27094121]\n",
      " [  0.           7.          43.68065934]\n",
      " [  0.           8.          41.23105626]\n",
      " [  0.           9.          77.62087348]\n",
      " [  1.           0.          59.05929224]\n",
      " [  1.           1.          16.2788206 ]\n",
      " [  1.           2.          65.19202405]\n",
      " [  1.           3.           6.70820393]\n",
      " [  1.           4.         108.72442228]\n",
      " [  1.           5.          66.73080248]\n",
      " [  1.           6.          87.59566199]\n",
      " [  1.           7.          36.49657518]\n",
      " [  1.           8.          53.85164807]\n",
      " [  1.           9.          34.4818793 ]\n",
      " [  2.           0.          31.95309062]\n",
      " [  2.           1.          25.01999201]\n",
      " [  2.           2.          37.58989226]\n",
      " [  2.           3.          34.40930107]\n",
      " [  2.           4.          82.76472679]\n",
      " [  2.           5.          46.        ]\n",
      " [  2.           6.          66.2721661 ]\n",
      " [  2.           7.          33.83784863]\n",
      " [  2.           8.          35.90264614]\n",
      " [  2.           9.           8.        ]\n",
      " [  3.           0.          55.73149917]\n",
      " [  3.           1.          21.        ]\n",
      " [  3.           2.          58.03447251]\n",
      " [  3.           3.          40.11234224]\n",
      " [  3.           4.          83.09632964]\n",
      " [  3.           5.          36.06937759]\n",
      " [  3.           6.          55.47071299]\n",
      " [  3.           7.           3.16227766]\n",
      " [  3.           8.          22.6715681 ]\n",
      " [  3.           9.          38.58756276]\n",
      " [  4.           0.          40.01249805]\n",
      " [  4.           1.          76.4198927 ]\n",
      " [  4.           2.          33.06055051]\n",
      " [  4.           3.          92.31467922]\n",
      " [  4.           4.          23.40939982]\n",
      " [  4.           5.          31.40063694]\n",
      " [  4.           6.          29.15475947]\n",
      " [  4.           7.          67.11929678]\n",
      " [  4.           8.          42.15447782]\n",
      " [  4.           9.          55.94640292]\n",
      " [  5.           0.          38.94868419]\n",
      " [  5.           1.          58.41232747]\n",
      " [  5.           2.          34.82814953]\n",
      " [  5.           3.          75.80237463]\n",
      " [  5.           4.          39.59797975]\n",
      " [  5.           5.          11.04536102]\n",
      " [  5.           6.          21.58703314]\n",
      " [  5.           7.          46.87216658]\n",
      " [  5.           8.          21.47091055]\n",
      " [  5.           9.          45.09988914]\n",
      " [  6.           0.          44.55333882]\n",
      " [  6.           1.          73.75635566]\n",
      " [  6.           2.          38.32753579]\n",
      " [  6.           3.          90.69729875]\n",
      " [  6.           4.          24.08318916]\n",
      " [  6.           5.          24.69817807]\n",
      " [  6.           6.          20.24845673]\n",
      " [  6.           7.          62.42595614]\n",
      " [  6.           8.          36.89173349]\n",
      " [  6.           9.          57.00877125]\n",
      " [  7.           0.          30.01666204]\n",
      " [  7.           1.          85.38149682]\n",
      " [  7.           2.          24.35159132]\n",
      " [  7.           3.          95.77055915]\n",
      " [  7.           4.          49.979996  ]\n",
      " [  7.           5.          59.46427499]\n",
      " [  7.           6.          64.03124237]\n",
      " [  7.           7.          84.29116205]\n",
      " [  7.           8.          64.62971453]\n",
      " [  7.           9.          54.58937626]\n",
      " [  8.           0.          18.24828759]\n",
      " [  8.           1.          73.55270219]\n",
      " [  8.           2.          18.02775638]\n",
      " [  8.           3.          80.99382693]\n",
      " [  8.           4.          65.62011887]\n",
      " [  8.           5.          61.22091146]\n",
      " [  8.           6.          71.61005516]\n",
      " [  8.           7.          76.79192666]\n",
      " [  8.           8.          62.16912417]\n",
      " [  8.           9.          40.79215611]\n",
      " [  9.           0.          27.20294102]\n",
      " [  9.           1.          33.24154028]\n",
      " [  9.           2.          33.9705755 ]\n",
      " [  9.           3.          39.        ]\n",
      " [  9.           4.          83.93449827]\n",
      " [  9.           5.          51.623638  ]\n",
      " [  9.           6.          71.02816343]\n",
      " [  9.           7.          43.26661531]\n",
      " [  9.           8.          43.08131846]\n",
      " [  9.           9.           5.        ]]\n"
     ]
    }
   ],
   "source": [
    "result=np.zeros((100,3))\n",
    "\n",
    "K=M[:,:2]\n",
    "L=M1[:,:2]\n",
    "x=0\n",
    "y=0\n",
    "for i in range (10):\n",
    "    for j in range (10):\n",
    "        result[y][0]=i\n",
    "        result[y][1]=j\n",
    "        y=y+1\n",
    "for i in K:\n",
    "    for j in L:\n",
    "        result[x][2]=np.linalg.norm(i-j)\n",
    "        x=x+1\n",
    "print(result)\n",
    "    "
   ]
  },
  {
   "cell_type": "code",
   "execution_count": 49,
   "id": "f5657077",
   "metadata": {},
   "outputs": [
    {
     "name": "stdout",
     "output_type": "stream",
     "text": [
      "[[  3.           7.           3.16227766]\n",
      " [  9.           9.           5.        ]\n",
      " [  1.           3.           6.70820393]\n",
      " [  2.           9.           8.        ]\n",
      " [  5.           5.          11.04536102]\n",
      " [  1.           1.          16.2788206 ]\n",
      " [  8.           2.          18.02775638]\n",
      " [  8.           0.          18.24828759]\n",
      " [  6.           6.          20.24845673]\n",
      " [  3.           1.          21.        ]\n",
      " [  5.           8.          21.47091055]\n",
      " [  5.           6.          21.58703314]\n",
      " [  3.           8.          22.6715681 ]\n",
      " [  4.           4.          23.40939982]\n",
      " [  6.           4.          24.08318916]\n",
      " [  7.           2.          24.35159132]\n",
      " [  6.           5.          24.69817807]\n",
      " [  2.           1.          25.01999201]\n",
      " [  9.           0.          27.20294102]\n",
      " [  4.           6.          29.15475947]\n",
      " [  7.           0.          30.01666204]\n",
      " [  4.           5.          31.40063694]\n",
      " [  2.           0.          31.95309062]\n",
      " [  4.           2.          33.06055051]\n",
      " [  9.           1.          33.24154028]\n",
      " [  2.           7.          33.83784863]\n",
      " [  9.           2.          33.9705755 ]\n",
      " [  2.           3.          34.40930107]\n",
      " [  1.           9.          34.4818793 ]\n",
      " [  5.           2.          34.82814953]\n",
      " [  2.           8.          35.90264614]\n",
      " [  3.           5.          36.06937759]\n",
      " [  1.           7.          36.49657518]\n",
      " [  6.           8.          36.89173349]\n",
      " [  2.           2.          37.58989226]\n",
      " [  6.           2.          38.32753579]\n",
      " [  3.           9.          38.58756276]\n",
      " [  5.           0.          38.94868419]\n",
      " [  9.           3.          39.        ]\n",
      " [  5.           4.          39.59797975]\n",
      " [  4.           0.          40.01249805]\n",
      " [  3.           3.          40.11234224]\n",
      " [  8.           9.          40.79215611]\n",
      " [  0.           8.          41.23105626]\n",
      " [  4.           8.          42.15447782]\n",
      " [  0.           5.          42.72001873]\n",
      " [  9.           8.          43.08131846]\n",
      " [  9.           7.          43.26661531]\n",
      " [  0.           7.          43.68065934]\n",
      " [  6.           0.          44.55333882]\n",
      " [  5.           9.          45.09988914]\n",
      " [  2.           5.          46.        ]\n",
      " [  0.           6.          46.27094121]\n",
      " [  5.           7.          46.87216658]\n",
      " [  7.           4.          49.979996  ]\n",
      " [  9.           5.          51.623638  ]\n",
      " [  1.           8.          53.85164807]\n",
      " [  7.           9.          54.58937626]\n",
      " [  3.           6.          55.47071299]\n",
      " [  3.           0.          55.73149917]\n",
      " [  4.           9.          55.94640292]\n",
      " [  6.           9.          57.00877125]\n",
      " [  3.           2.          58.03447251]\n",
      " [  5.           1.          58.41232747]\n",
      " [  1.           0.          59.05929224]\n",
      " [  7.           5.          59.46427499]\n",
      " [  8.           5.          61.22091146]\n",
      " [  8.           8.          62.16912417]\n",
      " [  6.           7.          62.42595614]\n",
      " [  0.           1.          63.78871374]\n",
      " [  7.           6.          64.03124237]\n",
      " [  7.           8.          64.62971453]\n",
      " [  1.           2.          65.19202405]\n",
      " [  8.           4.          65.62011887]\n",
      " [  2.           6.          66.2721661 ]\n",
      " [  1.           5.          66.73080248]\n",
      " [  4.           7.          67.11929678]\n",
      " [  9.           6.          71.02816343]\n",
      " [  8.           6.          71.61005516]\n",
      " [  8.           1.          73.55270219]\n",
      " [  6.           1.          73.75635566]\n",
      " [  5.           3.          75.80237463]\n",
      " [  4.           1.          76.4198927 ]\n",
      " [  8.           7.          76.79192666]\n",
      " [  0.           9.          77.62087348]\n",
      " [  0.           4.          79.906195  ]\n",
      " [  8.           3.          80.99382693]\n",
      " [  0.           3.          81.88406438]\n",
      " [  2.           4.          82.76472679]\n",
      " [  3.           4.          83.09632964]\n",
      " [  9.           4.          83.93449827]\n",
      " [  7.           7.          84.29116205]\n",
      " [  0.           2.          84.72307832]\n",
      " [  7.           1.          85.38149682]\n",
      " [  0.           0.          86.02325267]\n",
      " [  1.           6.          87.59566199]\n",
      " [  6.           3.          90.69729875]\n",
      " [  4.           3.          92.31467922]\n",
      " [  7.           3.          95.77055915]\n",
      " [  1.           4.         108.72442228]]\n"
     ]
    }
   ],
   "source": [
    "YY=result[result[:,2].argsort()]\n",
    "print(YY)"
   ]
  },
  {
   "cell_type": "code",
   "execution_count": 52,
   "id": "60527cb9",
   "metadata": {},
   "outputs": [
    {
     "name": "stdout",
     "output_type": "stream",
     "text": [
      "[[ 3.          7.          3.16227766]\n",
      " [ 9.          9.          5.        ]\n",
      " [ 1.          3.          6.70820393]\n",
      " [ 2.          9.          8.        ]\n",
      " [ 5.          5.         11.04536102]\n",
      " [ 1.          1.         16.2788206 ]\n",
      " [ 8.          2.         18.02775638]\n",
      " [ 8.          0.         18.24828759]\n",
      " [ 6.          6.         20.24845673]\n",
      " [ 3.          1.         21.        ]\n",
      " [ 5.          8.         21.47091055]\n",
      " [ 5.          6.         21.58703314]\n",
      " [ 3.          8.         22.6715681 ]\n",
      " [ 4.          4.         23.40939982]\n",
      " [ 6.          4.         24.08318916]\n",
      " [ 7.          2.         24.35159132]\n",
      " [ 6.          5.         24.69817807]\n",
      " [ 2.          1.         25.01999201]\n",
      " [ 9.          0.         27.20294102]\n",
      " [ 4.          6.         29.15475947]\n",
      " [ 7.          0.         30.01666204]\n",
      " [ 4.          5.         31.40063694]\n",
      " [ 2.          0.         31.95309062]\n",
      " [ 4.          2.         33.06055051]\n",
      " [ 9.          1.         33.24154028]\n",
      " [ 2.          7.         33.83784863]\n",
      " [ 9.          2.         33.9705755 ]\n",
      " [ 2.          3.         34.40930107]\n",
      " [ 1.          9.         34.4818793 ]\n",
      " [ 5.          2.         34.82814953]\n",
      " [ 2.          8.         35.90264614]\n",
      " [ 3.          5.         36.06937759]\n",
      " [ 1.          7.         36.49657518]\n",
      " [ 6.          8.         36.89173349]\n",
      " [ 2.          2.         37.58989226]\n",
      " [ 6.          2.         38.32753579]\n",
      " [ 3.          9.         38.58756276]\n",
      " [ 5.          0.         38.94868419]\n",
      " [ 9.          3.         39.        ]\n",
      " [ 5.          4.         39.59797975]\n",
      " [ 4.          0.         40.01249805]\n",
      " [ 3.          3.         40.11234224]\n",
      " [ 8.          9.         40.79215611]\n",
      " [ 0.          8.         41.23105626]\n",
      " [ 4.          8.         42.15447782]\n",
      " [ 0.          5.         42.72001873]\n",
      " [ 9.          8.         43.08131846]\n",
      " [ 9.          7.         43.26661531]\n",
      " [ 0.          7.         43.68065934]\n",
      " [ 6.          0.         44.55333882]]\n"
     ]
    }
   ],
   "source": [
    "print(YY[:50,:])"
   ]
  },
  {
   "cell_type": "code",
   "execution_count": 58,
   "id": "c4b77a73",
   "metadata": {},
   "outputs": [
    {
     "name": "stdout",
     "output_type": "stream",
     "text": [
      "20\n"
     ]
    }
   ],
   "source": [
    "print(np.count_nonzero(YY == 1))"
   ]
  },
  {
   "cell_type": "code",
   "execution_count": 7,
   "id": "01919df5",
   "metadata": {},
   "outputs": [
    {
     "name": "stdout",
     "output_type": "stream",
     "text": [
      "(768, 9)\n"
     ]
    }
   ],
   "source": [
    "import pandas\n",
    "import numpy\n",
    "from pandas import read_csv\n",
    "p = 'diabetes_dataset.csv'\n",
    "data = read_csv(p)\n",
    "print(data.shape)"
   ]
  },
  {
   "cell_type": "code",
   "execution_count": 8,
   "id": "762d61ae",
   "metadata": {},
   "outputs": [
    {
     "name": "stdout",
     "output_type": "stream",
     "text": [
      "   Pregnancies  Glucose  BloodPressure  SkinThickness  Insulin   BMI  \\\n",
      "0            6      148             72             35        0  33.6   \n",
      "1            1       85             66             29        0  26.6   \n",
      "2            8      183             64              0        0  23.3   \n",
      "3            1       89             66             23       94  28.1   \n",
      "\n",
      "   DiabetesPedigreeFunction  Age  Outcome  \n",
      "0                     0.627   50        1  \n",
      "1                     0.351   31        0  \n",
      "2                     0.672   32        1  \n",
      "3                     0.167   21        0  \n"
     ]
    }
   ],
   "source": [
    "print(data.head(4))"
   ]
  },
  {
   "cell_type": "code",
   "execution_count": 11,
   "id": "4f3c73f8",
   "metadata": {},
   "outputs": [
    {
     "name": "stdout",
     "output_type": "stream",
     "text": [
      "[[2.00e+00 1.97e+02 7.00e+01 ... 3.05e+01 1.58e-01 5.30e+01]\n",
      " [6.00e+00 1.54e+02 7.40e+01 ... 2.93e+01 8.39e-01 3.90e+01]\n",
      " [7.00e+00 6.20e+01 7.80e+01 ... 3.26e+01 3.91e-01 4.10e+01]\n",
      " ...\n",
      " [1.30e+01 1.06e+02 7.20e+01 ... 3.66e+01 1.78e-01 4.50e+01]\n",
      " [1.30e+01 1.06e+02 7.00e+01 ... 3.42e+01 2.51e-01 5.20e+01]\n",
      " [4.00e+00 1.09e+02 6.40e+01 ... 3.48e+01 9.05e-01 2.60e+01]]\n"
     ]
    }
   ],
   "source": [
    "from sklearn.model_selection import train_test_split\n",
    "\n",
    "arr=data.values\n",
    "X=arr[:,0:8]\n",
    "Y=arr[:,8]\n",
    "X_train, X_test, y_train, y_test = train_test_split(X, Y,test_size=0.20)\n",
    "print( X_test)"
   ]
  },
  {
   "cell_type": "code",
   "execution_count": 17,
   "id": "af9ba992",
   "metadata": {},
   "outputs": [
    {
     "name": "stdout",
     "output_type": "stream",
     "text": [
      "[[82 20]\n",
      " [33 19]]\n",
      "              precision    recall  f1-score   support\n",
      "\n",
      "         0.0       0.71      0.80      0.76       102\n",
      "         1.0       0.49      0.37      0.42        52\n",
      "\n",
      "    accuracy                           0.66       154\n",
      "   macro avg       0.60      0.58      0.59       154\n",
      "weighted avg       0.64      0.66      0.64       154\n",
      "\n"
     ]
    }
   ],
   "source": [
    "from sklearn.metrics import classification_report, confusion_matrix\n",
    "from sklearn.neighbors import KNeighborsClassifier\n",
    "classifier = KNeighborsClassifier(n_neighbors=5)\n",
    "classifier.fit(X_train, y_train)\n",
    "y_pred = classifier.predict(X_test)\n",
    "print(confusion_matrix(y_test, y_pred))\n",
    "print(classification_report(y_test, y_pred))"
   ]
  }
 ],
 "metadata": {
  "kernelspec": {
   "display_name": "Python 3.10.6 64-bit (microsoft store)",
   "language": "python",
   "name": "python3"
  },
  "language_info": {
   "codemirror_mode": {
    "name": "ipython",
    "version": 3
   },
   "file_extension": ".py",
   "mimetype": "text/x-python",
   "name": "python",
   "nbconvert_exporter": "python",
   "pygments_lexer": "ipython3",
   "version": "3.10.6"
  },
  "vscode": {
   "interpreter": {
    "hash": "0c17dfa18c3cc383979f9b7b24fb421e35508c8676f35ae64f6ce185fe2c2b03"
   }
  }
 },
 "nbformat": 4,
 "nbformat_minor": 5
}
